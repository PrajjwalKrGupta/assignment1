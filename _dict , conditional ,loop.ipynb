{
 "cells": [
  {
   "cell_type": "code",
   "execution_count": 1,
   "id": "5eb4ae45-da72-488b-aa5b-f946e90203ae",
   "metadata": {
    "tags": []
   },
   "outputs": [],
   "source": [
    "d ={}"
   ]
  },
  {
   "cell_type": "code",
   "execution_count": 2,
   "id": "32fcb8f8-cc85-4c44-9e86-3cc6a4685b22",
   "metadata": {
    "tags": []
   },
   "outputs": [
    {
     "data": {
      "text/plain": [
       "dict"
      ]
     },
     "execution_count": 2,
     "metadata": {},
     "output_type": "execute_result"
    }
   ],
   "source": [
    "type(d)"
   ]
  },
  {
   "cell_type": "code",
   "execution_count": 4,
   "id": "590558bf-21bd-491f-880e-9150388db19e",
   "metadata": {
    "tags": []
   },
   "outputs": [],
   "source": [
    "d1={'key':\"sudh\"}"
   ]
  },
  {
   "cell_type": "code",
   "execution_count": 5,
   "id": "fe74e65a-1710-427c-b13b-17db9d7eb584",
   "metadata": {
    "tags": []
   },
   "outputs": [
    {
     "data": {
      "text/plain": [
       "{'key': 'sudh'}"
      ]
     },
     "execution_count": 5,
     "metadata": {},
     "output_type": "execute_result"
    }
   ],
   "source": [
    "d1"
   ]
  },
  {
   "cell_type": "code",
   "execution_count": 6,
   "id": "ef49da8b-04fb-4cd2-aee6-b84e8412b216",
   "metadata": {
    "tags": []
   },
   "outputs": [],
   "source": [
    "d2={'name':\"sanu\",'email':\"ss@gmail.com\",'number':123456}"
   ]
  },
  {
   "cell_type": "code",
   "execution_count": 7,
   "id": "891a860d-3623-4c16-82eb-397ec6014f49",
   "metadata": {
    "tags": []
   },
   "outputs": [
    {
     "data": {
      "text/plain": [
       "{'name': 'sanu', 'email': 'ss@gmail.com', 'number': 123456}"
      ]
     },
     "execution_count": 7,
     "metadata": {},
     "output_type": "execute_result"
    }
   ],
   "source": [
    "d2"
   ]
  },
  {
   "cell_type": "code",
   "execution_count": 12,
   "id": "5b15a356-a927-4de3-b2d7-0322294018f2",
   "metadata": {
    "tags": []
   },
   "outputs": [],
   "source": [
    "d3={234:\"sudhh\",\"@wss\":\"kumar\",True:789456}"
   ]
  },
  {
   "cell_type": "code",
   "execution_count": 13,
   "id": "5091caac-ea4f-4646-a003-0d876d127c95",
   "metadata": {
    "tags": []
   },
   "outputs": [
    {
     "data": {
      "text/plain": [
       "{234: 'sudhh', '@wss': 'kumar', True: 789456}"
      ]
     },
     "execution_count": 13,
     "metadata": {},
     "output_type": "execute_result"
    }
   ],
   "source": [
    "d3"
   ]
  },
  {
   "cell_type": "code",
   "execution_count": 14,
   "id": "632e64e4-4d4d-42aa-876b-6270411cbb55",
   "metadata": {
    "tags": []
   },
   "outputs": [],
   "source": [
    "d3={234:\"sudhh\",\"@wss\":\"kumar\",True:789456}"
   ]
  },
  {
   "cell_type": "code",
   "execution_count": 15,
   "id": "1eabbb3b-9264-4abe-8f7b-47237913d578",
   "metadata": {
    "tags": []
   },
   "outputs": [
    {
     "data": {
      "text/plain": [
       "{234: 'sudhh', '@wss': 'kumar', True: 789456}"
      ]
     },
     "execution_count": 15,
     "metadata": {},
     "output_type": "execute_result"
    }
   ],
   "source": [
    "d3"
   ]
  },
  {
   "cell_type": "code",
   "execution_count": 17,
   "id": "8b3425cb-454c-454e-a807-ceb8a51fd3c7",
   "metadata": {
    "tags": []
   },
   "outputs": [
    {
     "data": {
      "text/plain": [
       "'sudhh'"
      ]
     },
     "execution_count": 17,
     "metadata": {},
     "output_type": "execute_result"
    }
   ],
   "source": [
    "d3[234]"
   ]
  },
  {
   "cell_type": "code",
   "execution_count": 18,
   "id": "5fc7868c-c834-4c58-a852-ff44f29e585a",
   "metadata": {
    "tags": []
   },
   "outputs": [
    {
     "data": {
      "text/plain": [
       "789456"
      ]
     },
     "execution_count": 18,
     "metadata": {},
     "output_type": "execute_result"
    }
   ],
   "source": [
    "d3[True]"
   ]
  },
  {
   "cell_type": "code",
   "execution_count": 19,
   "id": "2b102994-3882-4d1a-8b10-26b6933fc188",
   "metadata": {
    "tags": []
   },
   "outputs": [
    {
     "data": {
      "text/plain": [
       "789456"
      ]
     },
     "execution_count": 19,
     "metadata": {},
     "output_type": "execute_result"
    }
   ],
   "source": [
    "d3[1]"
   ]
  },
  {
   "cell_type": "code",
   "execution_count": 22,
   "id": "2c9576ec-12bc-456e-811d-20ef5099edd2",
   "metadata": {
    "tags": []
   },
   "outputs": [],
   "source": [
    "d4={'name':\"sanu\",'mail_id':\"sanu@gmail.com\",'name':\"sanuuuu\"}"
   ]
  },
  {
   "cell_type": "code",
   "execution_count": 24,
   "id": "20e36513-c244-486e-b876-1b3028010d59",
   "metadata": {
    "tags": []
   },
   "outputs": [
    {
     "data": {
      "text/plain": [
       "'sanuuuu'"
      ]
     },
     "execution_count": 24,
     "metadata": {},
     "output_type": "execute_result"
    }
   ],
   "source": [
    "d4[\"name\"]"
   ]
  },
  {
   "cell_type": "code",
   "execution_count": 25,
   "id": "70ca2b53-2628-4ac1-92b0-ebc038fb34e5",
   "metadata": {
    "tags": []
   },
   "outputs": [],
   "source": [
    "d5={\"company\":'pwskill',\"course\":['web','data','java']}"
   ]
  },
  {
   "cell_type": "code",
   "execution_count": 26,
   "id": "69599a07-4361-4dcf-9f4c-887ae85468a7",
   "metadata": {
    "tags": []
   },
   "outputs": [
    {
     "data": {
      "text/plain": [
       "{'company': 'pwskill', 'course': ['web', 'data', 'java']}"
      ]
     },
     "execution_count": 26,
     "metadata": {},
     "output_type": "execute_result"
    }
   ],
   "source": [
    "d5"
   ]
  },
  {
   "cell_type": "code",
   "execution_count": 27,
   "id": "878e9498-5ba0-4084-b90c-241575f5eddd",
   "metadata": {
    "tags": []
   },
   "outputs": [
    {
     "data": {
      "text/plain": [
       "['web', 'data', 'java']"
      ]
     },
     "execution_count": 27,
     "metadata": {},
     "output_type": "execute_result"
    }
   ],
   "source": [
    "d5['course']"
   ]
  },
  {
   "cell_type": "code",
   "execution_count": 28,
   "id": "bb90d525-fd5d-438c-b087-3094293ab1f4",
   "metadata": {
    "tags": []
   },
   "outputs": [
    {
     "data": {
      "text/plain": [
       "'java'"
      ]
     },
     "execution_count": 28,
     "metadata": {},
     "output_type": "execute_result"
    }
   ],
   "source": [
    "d5['course'][2]"
   ]
  },
  {
   "cell_type": "code",
   "execution_count": 31,
   "id": "97880fda-1633-414e-b47c-124e98bd0ba4",
   "metadata": {
    "tags": []
   },
   "outputs": [],
   "source": [
    "d6={'number':[2,43,56,345,5],\"assi\":(1,2,3,4,5,6),'date':{28,12,3,18},'class time':{'web':8,'data':6,'java':7}}"
   ]
  },
  {
   "cell_type": "code",
   "execution_count": 32,
   "id": "6984a733-d797-4f2f-a58d-3deaf91f6bf8",
   "metadata": {
    "tags": []
   },
   "outputs": [
    {
     "data": {
      "text/plain": [
       "{'number': [2, 43, 56, 345, 5],\n",
       " 'assi': (1, 2, 3, 4, 5, 6),\n",
       " 'date': {3, 12, 18, 28},\n",
       " 'class time': {'web': 8, 'data': 6, 'java': 7}}"
      ]
     },
     "execution_count": 32,
     "metadata": {},
     "output_type": "execute_result"
    }
   ],
   "source": [
    "d6"
   ]
  },
  {
   "cell_type": "code",
   "execution_count": 35,
   "id": "7a811085-b867-4a47-9d90-40ca6aad8c3e",
   "metadata": {
    "tags": []
   },
   "outputs": [
    {
     "data": {
      "text/plain": [
       "7"
      ]
     },
     "execution_count": 35,
     "metadata": {},
     "output_type": "execute_result"
    }
   ],
   "source": [
    "d6['class time']['java']"
   ]
  },
  {
   "cell_type": "code",
   "execution_count": 36,
   "id": "d5afded0-9dd6-4416-b5df-3dab8a3a607a",
   "metadata": {
    "tags": []
   },
   "outputs": [
    {
     "data": {
      "text/plain": [
       "{'number': [2, 43, 56, 345, 5],\n",
       " 'assi': (1, 2, 3, 4, 5, 6),\n",
       " 'date': {3, 12, 18, 28},\n",
       " 'class time': {'web': 8, 'data': 6, 'java': 7}}"
      ]
     },
     "execution_count": 36,
     "metadata": {},
     "output_type": "execute_result"
    }
   ],
   "source": [
    "d6"
   ]
  },
  {
   "cell_type": "code",
   "execution_count": 37,
   "id": "dd076aa7-a978-4126-b218-501e566a3c53",
   "metadata": {
    "tags": []
   },
   "outputs": [],
   "source": [
    "d6['mantor']=['sudhanshu','krishna','anurag','hyder']"
   ]
  },
  {
   "cell_type": "code",
   "execution_count": 38,
   "id": "c208a25a-18dc-4162-886c-811c4f79cf96",
   "metadata": {
    "tags": []
   },
   "outputs": [
    {
     "data": {
      "text/plain": [
       "{'number': [2, 43, 56, 345, 5],\n",
       " 'assi': (1, 2, 3, 4, 5, 6),\n",
       " 'date': {3, 12, 18, 28},\n",
       " 'class time': {'web': 8, 'data': 6, 'java': 7},\n",
       " 'mantor': ['sudhanshu', 'krishna', 'anurag', 'hyder']}"
      ]
     },
     "execution_count": 38,
     "metadata": {},
     "output_type": "execute_result"
    }
   ],
   "source": [
    "d6"
   ]
  },
  {
   "cell_type": "code",
   "execution_count": 39,
   "id": "aa6ddfb0-f6ca-4783-b09d-06f53ddd4eef",
   "metadata": {
    "tags": []
   },
   "outputs": [],
   "source": [
    "del d6['number']"
   ]
  },
  {
   "cell_type": "code",
   "execution_count": 40,
   "id": "f9aedea9-8abb-45eb-b972-a5852987b2dc",
   "metadata": {
    "tags": []
   },
   "outputs": [
    {
     "data": {
      "text/plain": [
       "{'assi': (1, 2, 3, 4, 5, 6),\n",
       " 'date': {3, 12, 18, 28},\n",
       " 'class time': {'web': 8, 'data': 6, 'java': 7},\n",
       " 'mantor': ['sudhanshu', 'krishna', 'anurag', 'hyder']}"
      ]
     },
     "execution_count": 40,
     "metadata": {},
     "output_type": "execute_result"
    }
   ],
   "source": [
    "d6"
   ]
  },
  {
   "cell_type": "code",
   "execution_count": 41,
   "id": "cffbbb70-0bd0-4b21-95dd-29322917a49e",
   "metadata": {
    "tags": []
   },
   "outputs": [
    {
     "data": {
      "text/plain": [
       "dict_keys(['assi', 'date', 'class time', 'mantor'])"
      ]
     },
     "execution_count": 41,
     "metadata": {},
     "output_type": "execute_result"
    }
   ],
   "source": [
    "d6.keys()"
   ]
  },
  {
   "cell_type": "code",
   "execution_count": 42,
   "id": "1a047516-f0c0-4006-a076-7868b7389c1a",
   "metadata": {
    "tags": []
   },
   "outputs": [
    {
     "data": {
      "text/plain": [
       "['assi', 'date', 'class time', 'mantor']"
      ]
     },
     "execution_count": 42,
     "metadata": {},
     "output_type": "execute_result"
    }
   ],
   "source": [
    "list(d6.keys())"
   ]
  },
  {
   "cell_type": "code",
   "execution_count": 43,
   "id": "e48d7c4b-1271-48be-aec0-d33b95063d25",
   "metadata": {
    "tags": []
   },
   "outputs": [
    {
     "data": {
      "text/plain": [
       "dict_values([(1, 2, 3, 4, 5, 6), {18, 3, 28, 12}, {'web': 8, 'data': 6, 'java': 7}, ['sudhanshu', 'krishna', 'anurag', 'hyder']])"
      ]
     },
     "execution_count": 43,
     "metadata": {},
     "output_type": "execute_result"
    }
   ],
   "source": [
    "d6.values()"
   ]
  },
  {
   "cell_type": "code",
   "execution_count": 44,
   "id": "2fd3f4ff-fa36-4ee3-83d9-f0c825437422",
   "metadata": {
    "tags": []
   },
   "outputs": [
    {
     "data": {
      "text/plain": [
       "[(1, 2, 3, 4, 5, 6),\n",
       " {3, 12, 18, 28},\n",
       " {'web': 8, 'data': 6, 'java': 7},\n",
       " ['sudhanshu', 'krishna', 'anurag', 'hyder']]"
      ]
     },
     "execution_count": 44,
     "metadata": {},
     "output_type": "execute_result"
    }
   ],
   "source": [
    "list(d6.values())"
   ]
  },
  {
   "cell_type": "code",
   "execution_count": 45,
   "id": "e543069c-3625-4b50-b0f8-77740c4d0d04",
   "metadata": {
    "tags": []
   },
   "outputs": [
    {
     "data": {
      "text/plain": [
       "dict_items([('assi', (1, 2, 3, 4, 5, 6)), ('date', {18, 3, 28, 12}), ('class time', {'web': 8, 'data': 6, 'java': 7}), ('mantor', ['sudhanshu', 'krishna', 'anurag', 'hyder'])])"
      ]
     },
     "execution_count": 45,
     "metadata": {},
     "output_type": "execute_result"
    }
   ],
   "source": [
    "d6.items()"
   ]
  },
  {
   "cell_type": "code",
   "execution_count": 46,
   "id": "23b6d96e-fd38-4160-90f9-60ed869e429f",
   "metadata": {
    "tags": []
   },
   "outputs": [
    {
     "data": {
      "text/plain": [
       "[('assi', (1, 2, 3, 4, 5, 6)),\n",
       " ('date', {3, 12, 18, 28}),\n",
       " ('class time', {'web': 8, 'data': 6, 'java': 7}),\n",
       " ('mantor', ['sudhanshu', 'krishna', 'anurag', 'hyder'])]"
      ]
     },
     "execution_count": 46,
     "metadata": {},
     "output_type": "execute_result"
    }
   ],
   "source": [
    "list(d6.items())"
   ]
  },
  {
   "cell_type": "code",
   "execution_count": 47,
   "id": "31ba6bcc-b66f-428c-a8eb-2fb80c78de0f",
   "metadata": {
    "tags": []
   },
   "outputs": [
    {
     "data": {
      "text/plain": [
       "(1, 2, 3, 4, 5, 6)"
      ]
     },
     "execution_count": 47,
     "metadata": {},
     "output_type": "execute_result"
    }
   ],
   "source": [
    "d6.pop(\"assi\")"
   ]
  },
  {
   "cell_type": "code",
   "execution_count": 50,
   "id": "903adbfb-af81-441d-85c9-3d626c6b3aa7",
   "metadata": {
    "tags": []
   },
   "outputs": [
    {
     "ename": "TypeError",
     "evalue": "pop expected at least 1 argument, got 0",
     "output_type": "error",
     "traceback": [
      "\u001b[1;31m---------------------------------------------------------------------------\u001b[0m",
      "\u001b[1;31mTypeError\u001b[0m                                 Traceback (most recent call last)",
      "Cell \u001b[1;32mIn[50], line 1\u001b[0m\n\u001b[1;32m----> 1\u001b[0m \u001b[43md6\u001b[49m\u001b[38;5;241;43m.\u001b[39;49m\u001b[43mpop\u001b[49m\u001b[43m(\u001b[49m\u001b[43m)\u001b[49m\n",
      "\u001b[1;31mTypeError\u001b[0m: pop expected at least 1 argument, got 0"
     ]
    }
   ],
   "source": [
    "d6.pop()"
   ]
  },
  {
   "cell_type": "code",
   "execution_count": null,
   "id": "6d03e63e-8da6-4628-a0d9-a60f2d10c03b",
   "metadata": {},
   "outputs": [],
   "source": []
  },
  {
   "cell_type": "code",
   "execution_count": null,
   "id": "9f1d936d-715e-4335-af8e-170814d95e9c",
   "metadata": {},
   "outputs": [],
   "source": []
  },
  {
   "cell_type": "code",
   "execution_count": 63,
   "id": "6f3069b8-a1c7-412a-96bf-86320f2ede18",
   "metadata": {
    "tags": []
   },
   "outputs": [
    {
     "name": "stdin",
     "output_type": "stream",
     "text": [
      "enter your marks 43\n"
     ]
    },
    {
     "name": "stdout",
     "output_type": "stream",
     "text": [
      "you will be a part of A2 batch\n"
     ]
    }
   ],
   "source": [
    "marks = int(input(\"enter your marks\"))\n",
    "if marks >=80 :\n",
    "    print(\"you will be a part of A0 batch\")\n",
    "elif marks >=60 and marks <80 :\n",
    "    print(\"you will be a part of A1 batch\")\n",
    "elif marks >=40 and marks <60 :\n",
    "    print(\"you will be a part of A2 batch\")\n",
    "else :\n",
    "    print(\"you will be a part of A3 batch\")\n",
    "    "
   ]
  },
  {
   "cell_type": "code",
   "execution_count": 58,
   "id": "f15e0162-52fe-4193-8f6e-5ea87fb7fa8c",
   "metadata": {
    "tags": []
   },
   "outputs": [
    {
     "name": "stdin",
     "output_type": "stream",
     "text": [
      "enter your marks 53\n"
     ]
    }
   ],
   "source": [
    "marks = input(\"enter your marks\")"
   ]
  },
  {
   "cell_type": "code",
   "execution_count": 59,
   "id": "98e2d4ff-8c2c-4e88-a024-97b16bbc67f0",
   "metadata": {
    "tags": []
   },
   "outputs": [
    {
     "data": {
      "text/plain": [
       "str"
      ]
     },
     "execution_count": 59,
     "metadata": {},
     "output_type": "execute_result"
    }
   ],
   "source": [
    "type(marks)"
   ]
  },
  {
   "cell_type": "code",
   "execution_count": 68,
   "id": "81af2499-f4b9-4b3d-8080-e466648f20b9",
   "metadata": {
    "tags": []
   },
   "outputs": [
    {
     "name": "stdin",
     "output_type": "stream",
     "text": [
      "enter price 35431\n"
     ]
    },
    {
     "name": "stdout",
     "output_type": "stream",
     "text": [
      "i will not purachase\n"
     ]
    }
   ],
   "source": [
    "price=int(input(\"enter price\"))\n",
    "if price>1000:\n",
    "    print(\"i will not purachase\")\n",
    "else :    \n",
    "    print(\"i will purachase\")\n",
    "    "
   ]
  },
  {
   "cell_type": "code",
   "execution_count": 80,
   "id": "66ff4e93-ffcf-4342-a3c8-4457bc9f6f9a",
   "metadata": {
    "tags": []
   },
   "outputs": [
    {
     "name": "stdin",
     "output_type": "stream",
     "text": [
      "enter price 950\n"
     ]
    },
    {
     "name": "stdout",
     "output_type": "stream",
     "text": [
      "i will purchase\n"
     ]
    }
   ],
   "source": [
    "price=int(input(\"enter price\"))\n",
    "if price>1000:\n",
    "    print(\"i will not purachase\")\n",
    "    if price >5000:\n",
    "        print(\"this is too much\")\n",
    "    elif price < 2000:\n",
    "        print(\"its ok\")\n",
    "elif price <1000:\n",
    "    print(\"i will purchase\")\n",
    "else:    \n",
    "    print (\"not interested\")"
   ]
  },
  {
   "cell_type": "code",
   "execution_count": 81,
   "id": "fd640df6-c07e-40d9-9408-b74faf63669b",
   "metadata": {
    "tags": []
   },
   "outputs": [],
   "source": [
    " l= [1,2,3,3,4,5,6,7,8]"
   ]
  },
  {
   "cell_type": "code",
   "execution_count": 83,
   "id": "40ce7cab-7f4b-47a6-a9e9-c69182dc3c1a",
   "metadata": {
    "tags": []
   },
   "outputs": [
    {
     "data": {
      "text/plain": [
       "2"
      ]
     },
     "execution_count": 83,
     "metadata": {},
     "output_type": "execute_result"
    }
   ],
   "source": [
    "l[0]+1"
   ]
  },
  {
   "cell_type": "code",
   "execution_count": 84,
   "id": "8c7b4092-9e0d-4661-84ea-b9d4dc0a6dca",
   "metadata": {
    "tags": []
   },
   "outputs": [],
   "source": [
    "l1=[]"
   ]
  },
  {
   "cell_type": "code",
   "execution_count": 87,
   "id": "e6e87879-f4f1-48bf-923c-b3d47620e246",
   "metadata": {
    "tags": []
   },
   "outputs": [
    {
     "data": {
      "text/plain": [
       "[]"
      ]
     },
     "execution_count": 87,
     "metadata": {},
     "output_type": "execute_result"
    }
   ],
   "source": [
    "l1"
   ]
  },
  {
   "cell_type": "code",
   "execution_count": 88,
   "id": "5b7c933d-3667-48f0-a599-0f1970c0019a",
   "metadata": {
    "tags": []
   },
   "outputs": [
    {
     "data": {
      "text/plain": [
       "[1, 2, 3, 3, 4, 5, 6, 7, 8]"
      ]
     },
     "execution_count": 88,
     "metadata": {},
     "output_type": "execute_result"
    }
   ],
   "source": [
    "l"
   ]
  },
  {
   "cell_type": "code",
   "execution_count": 93,
   "id": "507c136a-5a50-4fcd-aa46-cc4e931da14e",
   "metadata": {
    "tags": []
   },
   "outputs": [
    {
     "name": "stdout",
     "output_type": "stream",
     "text": [
      "2\n",
      "3\n",
      "4\n",
      "4\n",
      "5\n",
      "6\n",
      "7\n",
      "8\n",
      "9\n"
     ]
    },
    {
     "data": {
      "text/plain": [
       "[2, 3, 4, 4, 5, 6, 7, 8, 9]"
      ]
     },
     "execution_count": 93,
     "metadata": {},
     "output_type": "execute_result"
    }
   ],
   "source": [
    "l1=[]\n",
    "for i in l:\n",
    "    print(i+1)\n",
    "    l1.append(i+1)\n",
    "l1    "
   ]
  },
  {
   "cell_type": "code",
   "execution_count": 96,
   "id": "49760164-a967-430b-b4f7-a27ad63bee79",
   "metadata": {
    "tags": []
   },
   "outputs": [
    {
     "data": {
      "text/plain": [
       "[1, 2, 3, 3, 4, 5, 6, 7, 8]"
      ]
     },
     "execution_count": 96,
     "metadata": {},
     "output_type": "execute_result"
    }
   ],
   "source": [
    "l"
   ]
  },
  {
   "cell_type": "code",
   "execution_count": 97,
   "id": "ee1e64cf-289f-438e-bb38-582ce1a1d50f",
   "metadata": {
    "tags": []
   },
   "outputs": [],
   "source": [
    "l=['sudh', 'kumar' , 'pwskills', 'course']"
   ]
  },
  {
   "cell_type": "code",
   "execution_count": 101,
   "id": "57885b60-4aba-4e8c-b698-3437574fdd1e",
   "metadata": {
    "tags": []
   },
   "outputs": [
    {
     "name": "stdout",
     "output_type": "stream",
     "text": [
      "sudh\n",
      "kumar\n",
      "pwskills\n",
      "course\n"
     ]
    }
   ],
   "source": [
    "l1=[]\n",
    "for i in l:\n",
    "    print(i)\n",
    "    l1.append(i.upper())"
   ]
  },
  {
   "cell_type": "code",
   "execution_count": 102,
   "id": "fc3453a7-b44c-4aaa-a74c-090a4858a9d6",
   "metadata": {
    "tags": []
   },
   "outputs": [
    {
     "data": {
      "text/plain": [
       "['SUDH', 'KUMAR', 'PWSKILLS', 'COURSE']"
      ]
     },
     "execution_count": 102,
     "metadata": {},
     "output_type": "execute_result"
    }
   ],
   "source": [
    "l1"
   ]
  },
  {
   "cell_type": "code",
   "execution_count": 103,
   "id": "606648b5-6a41-4ac6-ad1a-afc0d7af752e",
   "metadata": {
    "tags": []
   },
   "outputs": [],
   "source": [
    "l = [1,2,3,4,4,'sudh','kumar',3214,21.5,'abc']"
   ]
  },
  {
   "cell_type": "code",
   "execution_count": 105,
   "id": "f9422a1e-59ef-4c1c-b5f8-99b3d3435f69",
   "metadata": {
    "tags": []
   },
   "outputs": [],
   "source": [
    "l1_num=[]\n",
    "l2_str=[]\n",
    "for i in l:\n",
    "    if type(i)==int or type(i)== float:\n",
    "        l1_num.append(i)\n",
    "    else :\n",
    "        l2_str.append(i)\n",
    "   "
   ]
  },
  {
   "cell_type": "code",
   "execution_count": 107,
   "id": "7792efaf-9bd0-420a-82af-7ebac14a01ea",
   "metadata": {
    "tags": []
   },
   "outputs": [
    {
     "data": {
      "text/plain": [
       "[1, 2, 3, 4, 4, 3214, 21.5]"
      ]
     },
     "execution_count": 107,
     "metadata": {},
     "output_type": "execute_result"
    }
   ],
   "source": [
    "l1_num"
   ]
  },
  {
   "cell_type": "code",
   "execution_count": 108,
   "id": "c0dedb49-4c1c-4812-bef3-f994acfe4af4",
   "metadata": {
    "tags": []
   },
   "outputs": [
    {
     "data": {
      "text/plain": [
       "['sudh', 'kumar', 'abc']"
      ]
     },
     "execution_count": 108,
     "metadata": {},
     "output_type": "execute_result"
    }
   ],
   "source": [
    "l2_str"
   ]
  },
  {
   "cell_type": "code",
   "execution_count": null,
   "id": "e2271791-5a54-44cc-a720-57a85faa64e6",
   "metadata": {},
   "outputs": [],
   "source": []
  }
 ],
 "metadata": {
  "kernelspec": {
   "display_name": "Python 3 (ipykernel)",
   "language": "python",
   "name": "python3"
  },
  "language_info": {
   "codemirror_mode": {
    "name": "ipython",
    "version": 3
   },
   "file_extension": ".py",
   "mimetype": "text/x-python",
   "name": "python",
   "nbconvert_exporter": "python",
   "pygments_lexer": "ipython3",
   "version": "3.11.5"
  }
 },
 "nbformat": 4,
 "nbformat_minor": 5
}
